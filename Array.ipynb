{
  "nbformat": 4,
  "nbformat_minor": 0,
  "metadata": {
    "colab": {
      "name": "Array.ipynb",
      "provenance": [],
      "collapsed_sections": [],
      "authorship_tag": "ABX9TyOdQYmvltX69JT7GpXCydLS",
      "include_colab_link": true
    },
    "kernelspec": {
      "name": "python3",
      "display_name": "Python 3"
    }
  },
  "cells": [
    {
      "cell_type": "markdown",
      "metadata": {
        "id": "view-in-github",
        "colab_type": "text"
      },
      "source": [
        "<a href=\"https://colab.research.google.com/github/yashsinha848/Data-Structures/blob/master/Array.ipynb\" target=\"_parent\"><img src=\"https://colab.research.google.com/assets/colab-badge.svg\" alt=\"Open In Colab\"/></a>"
      ]
    },
    {
      "cell_type": "markdown",
      "metadata": {
        "id": "KHbrw2MOmXwO",
        "colab_type": "text"
      },
      "source": [
        "Insertion"
      ]
    },
    {
      "cell_type": "code",
      "metadata": {
        "id": "vsFCCKmUlHWE",
        "colab_type": "code",
        "colab": {
          "base_uri": "https://localhost:8080/",
          "height": 34
        },
        "outputId": "a8704ba1-a54a-497f-9ef8-7f323cac806f"
      },
      "source": [
        "a=[1,2,3,4]\n",
        "a.insert(0,10) #insertion at beginning\n",
        "\n",
        "a.insert(3,11) #insertion at middle\n",
        "\n",
        "a.append(6)   #insertion at end\n",
        "\n",
        "print(a)"
      ],
      "execution_count": 5,
      "outputs": [
        {
          "output_type": "stream",
          "text": [
            "[10, 1, 2, 11, 3, 4, 6]\n"
          ],
          "name": "stdout"
        }
      ]
    },
    {
      "cell_type": "markdown",
      "metadata": {
        "id": "g8163WqtmpQq",
        "colab_type": "text"
      },
      "source": [
        "Search"
      ]
    },
    {
      "cell_type": "code",
      "metadata": {
        "id": "_M3acrF-mKui",
        "colab_type": "code",
        "colab": {
          "base_uri": "https://localhost:8080/",
          "height": 34
        },
        "outputId": "20d27f40-1a49-43bd-9ad3-bb6e4e6ae923"
      },
      "source": [
        "a=[1,9,5,7,8,6,3,2]\n",
        "b=9\n",
        "j=0\n",
        "for i in range(0,len(a)):\n",
        "  if(a[i]==b):\n",
        "    j=j+1\n",
        "    k=i\n",
        "  else:\n",
        "    pass\n",
        "if(j>=1):\n",
        "  print(\"Found at\",k,\"Position\")"
      ],
      "execution_count": 13,
      "outputs": [
        {
          "output_type": "stream",
          "text": [
            "Found at 1 Position\n"
          ],
          "name": "stdout"
        }
      ]
    },
    {
      "cell_type": "markdown",
      "metadata": {
        "id": "gU-1bJamoJqP",
        "colab_type": "text"
      },
      "source": [
        "Update"
      ]
    },
    {
      "cell_type": "code",
      "metadata": {
        "id": "OeGgmdKom7Ft",
        "colab_type": "code",
        "colab": {
          "base_uri": "https://localhost:8080/",
          "height": 34
        },
        "outputId": "1f40b29d-912a-4470-890b-768b9cadc566"
      },
      "source": [
        "a=[1,9,5,7,8,6,3,2]\n",
        "a[1]=11\n",
        "print(a)"
      ],
      "execution_count": 14,
      "outputs": [
        {
          "output_type": "stream",
          "text": [
            "[1, 11, 5, 7, 8, 6, 3, 2]\n"
          ],
          "name": "stdout"
        }
      ]
    }
  ]
}